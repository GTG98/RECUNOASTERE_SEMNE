{
 "cells": [
  {
   "cell_type": "code",
   "execution_count": null,
   "id": "3763374b-ef7f-4f13-819f-cf8092e2f7ac",
   "metadata": {},
   "outputs": [],
   "source": []
  }
 ],
 "metadata": {
  "kernelspec": {
   "display_name": "",
   "name": ""
  },
  "language_info": {
   "name": ""
  }
 },
 "nbformat": 4,
 "nbformat_minor": 5
}
